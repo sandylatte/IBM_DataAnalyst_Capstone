{
  "nbformat": 4,
  "nbformat_minor": 0,
  "metadata": {
    "kernelspec": {
      "display_name": "Python 3",
      "language": "python",
      "name": "python3"
    },
    "language_info": {
      "codemirror_mode": {
        "name": "ipython",
        "version": 3
      },
      "file_extension": ".py",
      "mimetype": "text/x-python",
      "name": "python",
      "nbconvert_exporter": "python",
      "pygments_lexer": "ipython3",
      "version": "3.7.6"
    },
    "colab": {
      "name": "M2DataWrangling-lab.ipynb",
      "provenance": [],
      "collapsed_sections": [],
      "include_colab_link": true
    }
  },
  "cells": [
    {
      "cell_type": "markdown",
      "metadata": {
        "id": "view-in-github",
        "colab_type": "text"
      },
      "source": [
        "<a href=\"https://colab.research.google.com/github/sandylatte/IBM_DataAnalyst_Capstone_in_Python/blob/main/M2DataWrangling_lab.ipynb\" target=\"_parent\"><img src=\"https://colab.research.google.com/assets/colab-badge.svg\" alt=\"Open In Colab\"/></a>"
      ]
    },
    {
      "cell_type": "markdown",
      "metadata": {
        "id": "WuOhtL3-yguS"
      },
      "source": [
        "<center>\n",
        "    <img src=\"https://gitlab.com/ibm/skills-network/courses/placeholder101/-/raw/master/labs/module%201/images/IDSNlogo.png\" width=\"300\" alt=\"cognitiveclass.ai logo\"  />\n",
        "</center>\n"
      ]
    },
    {
      "cell_type": "markdown",
      "metadata": {
        "id": "XNjnk5J_ygub"
      },
      "source": [
        "# **Data Wrangling Lab**\n"
      ]
    },
    {
      "cell_type": "markdown",
      "metadata": {
        "id": "tCcpmC1byguc"
      },
      "source": [
        "Estimated time needed: **45 to 60** minutes\n"
      ]
    },
    {
      "cell_type": "markdown",
      "metadata": {
        "id": "s7OQtzgzyguc"
      },
      "source": [
        "In this assignment you will be performing data wrangling.\n"
      ]
    },
    {
      "cell_type": "markdown",
      "metadata": {
        "id": "tpUyKyylyguc"
      },
      "source": [
        "## Objectives\n"
      ]
    },
    {
      "cell_type": "markdown",
      "metadata": {
        "id": "N1mj815nygud"
      },
      "source": [
        "In this lab you will perform the following:\n"
      ]
    },
    {
      "cell_type": "markdown",
      "metadata": {
        "id": "r5Q0anE9ygud"
      },
      "source": [
        "-   Identify duplicate values in the dataset.\n",
        "\n",
        "-   Remove duplicate values from the dataset.\n",
        "\n",
        "-   Identify missing values in the dataset.\n",
        "\n",
        "-   Impute the missing values in the dataset.\n",
        "\n",
        "-   Normalize data in the dataset.\n"
      ]
    },
    {
      "cell_type": "markdown",
      "metadata": {
        "id": "W9Ra8olUygud"
      },
      "source": [
        "<hr>\n"
      ]
    },
    {
      "cell_type": "markdown",
      "metadata": {
        "id": "stdig25vygud"
      },
      "source": [
        "## Hands on Lab\n"
      ]
    },
    {
      "cell_type": "markdown",
      "metadata": {
        "id": "ZTB_EgVHygue"
      },
      "source": [
        "Import pandas module.\n"
      ]
    },
    {
      "cell_type": "code",
      "metadata": {
        "id": "st3qBOW3ygue"
      },
      "source": [
        "import pandas as pd"
      ],
      "execution_count": 1,
      "outputs": []
    },
    {
      "cell_type": "markdown",
      "metadata": {
        "id": "ZllNP2T9ygue"
      },
      "source": [
        "Load the dataset into a dataframe.\n"
      ]
    },
    {
      "cell_type": "code",
      "metadata": {
        "colab": {
          "base_uri": "https://localhost:8080/",
          "height": 780
        },
        "id": "SOulSn14yguf",
        "outputId": "7ab4cc28-eaa8-45c0-b330-789940a7e430"
      },
      "source": [
        "df = pd.read_csv(\"https://cf-courses-data.s3.us.cloud-object-storage.appdomain.cloud/IBM-DA0321EN-SkillsNetwork/LargeData/m1_survey_data.csv\")\r\n",
        "df.head()"
      ],
      "execution_count": 2,
      "outputs": [
        {
          "output_type": "execute_result",
          "data": {
            "text/html": [
              "<div>\n",
              "<style scoped>\n",
              "    .dataframe tbody tr th:only-of-type {\n",
              "        vertical-align: middle;\n",
              "    }\n",
              "\n",
              "    .dataframe tbody tr th {\n",
              "        vertical-align: top;\n",
              "    }\n",
              "\n",
              "    .dataframe thead th {\n",
              "        text-align: right;\n",
              "    }\n",
              "</style>\n",
              "<table border=\"1\" class=\"dataframe\">\n",
              "  <thead>\n",
              "    <tr style=\"text-align: right;\">\n",
              "      <th></th>\n",
              "      <th>Respondent</th>\n",
              "      <th>MainBranch</th>\n",
              "      <th>Hobbyist</th>\n",
              "      <th>OpenSourcer</th>\n",
              "      <th>OpenSource</th>\n",
              "      <th>Employment</th>\n",
              "      <th>Country</th>\n",
              "      <th>Student</th>\n",
              "      <th>EdLevel</th>\n",
              "      <th>UndergradMajor</th>\n",
              "      <th>EduOther</th>\n",
              "      <th>OrgSize</th>\n",
              "      <th>DevType</th>\n",
              "      <th>YearsCode</th>\n",
              "      <th>Age1stCode</th>\n",
              "      <th>YearsCodePro</th>\n",
              "      <th>CareerSat</th>\n",
              "      <th>JobSat</th>\n",
              "      <th>MgrIdiot</th>\n",
              "      <th>MgrMoney</th>\n",
              "      <th>MgrWant</th>\n",
              "      <th>JobSeek</th>\n",
              "      <th>LastHireDate</th>\n",
              "      <th>LastInt</th>\n",
              "      <th>FizzBuzz</th>\n",
              "      <th>JobFactors</th>\n",
              "      <th>ResumeUpdate</th>\n",
              "      <th>CurrencySymbol</th>\n",
              "      <th>CurrencyDesc</th>\n",
              "      <th>CompTotal</th>\n",
              "      <th>CompFreq</th>\n",
              "      <th>ConvertedComp</th>\n",
              "      <th>WorkWeekHrs</th>\n",
              "      <th>WorkPlan</th>\n",
              "      <th>WorkChallenge</th>\n",
              "      <th>WorkRemote</th>\n",
              "      <th>WorkLoc</th>\n",
              "      <th>ImpSyn</th>\n",
              "      <th>CodeRev</th>\n",
              "      <th>CodeRevHrs</th>\n",
              "      <th>...</th>\n",
              "      <th>DatabaseWorkedWith</th>\n",
              "      <th>DatabaseDesireNextYear</th>\n",
              "      <th>PlatformWorkedWith</th>\n",
              "      <th>PlatformDesireNextYear</th>\n",
              "      <th>WebFrameWorkedWith</th>\n",
              "      <th>WebFrameDesireNextYear</th>\n",
              "      <th>MiscTechWorkedWith</th>\n",
              "      <th>MiscTechDesireNextYear</th>\n",
              "      <th>DevEnviron</th>\n",
              "      <th>OpSys</th>\n",
              "      <th>Containers</th>\n",
              "      <th>BlockchainOrg</th>\n",
              "      <th>BlockchainIs</th>\n",
              "      <th>BetterLife</th>\n",
              "      <th>ITperson</th>\n",
              "      <th>OffOn</th>\n",
              "      <th>SocialMedia</th>\n",
              "      <th>Extraversion</th>\n",
              "      <th>ScreenName</th>\n",
              "      <th>SOVisit1st</th>\n",
              "      <th>SOVisitFreq</th>\n",
              "      <th>SOVisitTo</th>\n",
              "      <th>SOFindAnswer</th>\n",
              "      <th>SOTimeSaved</th>\n",
              "      <th>SOHowMuchTime</th>\n",
              "      <th>SOAccount</th>\n",
              "      <th>SOPartFreq</th>\n",
              "      <th>SOJobs</th>\n",
              "      <th>EntTeams</th>\n",
              "      <th>SOComm</th>\n",
              "      <th>WelcomeChange</th>\n",
              "      <th>SONewContent</th>\n",
              "      <th>Age</th>\n",
              "      <th>Gender</th>\n",
              "      <th>Trans</th>\n",
              "      <th>Sexuality</th>\n",
              "      <th>Ethnicity</th>\n",
              "      <th>Dependents</th>\n",
              "      <th>SurveyLength</th>\n",
              "      <th>SurveyEase</th>\n",
              "    </tr>\n",
              "  </thead>\n",
              "  <tbody>\n",
              "    <tr>\n",
              "      <th>0</th>\n",
              "      <td>4</td>\n",
              "      <td>I am a developer by profession</td>\n",
              "      <td>No</td>\n",
              "      <td>Never</td>\n",
              "      <td>The quality of OSS and closed source software ...</td>\n",
              "      <td>Employed full-time</td>\n",
              "      <td>United States</td>\n",
              "      <td>No</td>\n",
              "      <td>Bachelor’s degree (BA, BS, B.Eng., etc.)</td>\n",
              "      <td>Computer science, computer engineering, or sof...</td>\n",
              "      <td>Taken an online course in programming or softw...</td>\n",
              "      <td>100 to 499 employees</td>\n",
              "      <td>Developer, full-stack</td>\n",
              "      <td>3</td>\n",
              "      <td>16</td>\n",
              "      <td>Less than 1 year</td>\n",
              "      <td>Very satisfied</td>\n",
              "      <td>Slightly satisfied</td>\n",
              "      <td>Very confident</td>\n",
              "      <td>No</td>\n",
              "      <td>Not sure</td>\n",
              "      <td>I am not interested in new job opportunities</td>\n",
              "      <td>Less than a year ago</td>\n",
              "      <td>Write code by hand (e.g., on a whiteboard);Int...</td>\n",
              "      <td>No</td>\n",
              "      <td>Languages, frameworks, and other technologies ...</td>\n",
              "      <td>I was preparing for a job search</td>\n",
              "      <td>USD</td>\n",
              "      <td>United States dollar</td>\n",
              "      <td>61000.0</td>\n",
              "      <td>Yearly</td>\n",
              "      <td>61000.0</td>\n",
              "      <td>80.0</td>\n",
              "      <td>There's no schedule or spec; I work on what se...</td>\n",
              "      <td>NaN</td>\n",
              "      <td>Less than once per month / Never</td>\n",
              "      <td>Home</td>\n",
              "      <td>A little below average</td>\n",
              "      <td>No</td>\n",
              "      <td>NaN</td>\n",
              "      <td>...</td>\n",
              "      <td>MySQL;SQLite</td>\n",
              "      <td>MySQL;SQLite</td>\n",
              "      <td>Linux;Windows</td>\n",
              "      <td>Linux;Windows</td>\n",
              "      <td>NaN</td>\n",
              "      <td>NaN</td>\n",
              "      <td>.NET</td>\n",
              "      <td>.NET</td>\n",
              "      <td>Eclipse;Vim;Visual Studio;Visual Studio Code</td>\n",
              "      <td>Windows</td>\n",
              "      <td>I do not use containers</td>\n",
              "      <td>Not at all</td>\n",
              "      <td>Useful for decentralized currency (i.e., Bitcoin)</td>\n",
              "      <td>Yes</td>\n",
              "      <td>SIGH</td>\n",
              "      <td>Yes</td>\n",
              "      <td>Reddit</td>\n",
              "      <td>In real life (in person)</td>\n",
              "      <td>Username</td>\n",
              "      <td>2014</td>\n",
              "      <td>Daily or almost daily</td>\n",
              "      <td>Find answers to specific questions;Pass the ti...</td>\n",
              "      <td>1-2 times per week</td>\n",
              "      <td>Stack Overflow was much faster</td>\n",
              "      <td>31-60 minutes</td>\n",
              "      <td>Yes</td>\n",
              "      <td>Less than once per month or monthly</td>\n",
              "      <td>Yes</td>\n",
              "      <td>No, and I don't know what those are</td>\n",
              "      <td>No, not really</td>\n",
              "      <td>Just as welcome now as I felt last year</td>\n",
              "      <td>Tech articles written by other developers;Indu...</td>\n",
              "      <td>22.0</td>\n",
              "      <td>Man</td>\n",
              "      <td>No</td>\n",
              "      <td>Straight / Heterosexual</td>\n",
              "      <td>White or of European descent</td>\n",
              "      <td>No</td>\n",
              "      <td>Appropriate in length</td>\n",
              "      <td>Easy</td>\n",
              "    </tr>\n",
              "    <tr>\n",
              "      <th>1</th>\n",
              "      <td>9</td>\n",
              "      <td>I am a developer by profession</td>\n",
              "      <td>Yes</td>\n",
              "      <td>Once a month or more often</td>\n",
              "      <td>The quality of OSS and closed source software ...</td>\n",
              "      <td>Employed full-time</td>\n",
              "      <td>New Zealand</td>\n",
              "      <td>No</td>\n",
              "      <td>Some college/university study without earning ...</td>\n",
              "      <td>Computer science, computer engineering, or sof...</td>\n",
              "      <td>Taken an online course in programming or softw...</td>\n",
              "      <td>10 to 19 employees</td>\n",
              "      <td>Database administrator;Developer, back-end;Dev...</td>\n",
              "      <td>12</td>\n",
              "      <td>11</td>\n",
              "      <td>4</td>\n",
              "      <td>Slightly satisfied</td>\n",
              "      <td>Slightly satisfied</td>\n",
              "      <td>Somewhat confident</td>\n",
              "      <td>No</td>\n",
              "      <td>Not sure</td>\n",
              "      <td>I’m not actively looking, but I am open to new...</td>\n",
              "      <td>Less than a year ago</td>\n",
              "      <td>Write any code;Interview with people in peer r...</td>\n",
              "      <td>Yes</td>\n",
              "      <td>Financial performance or funding status of the...</td>\n",
              "      <td>I was preparing for a job search</td>\n",
              "      <td>NZD</td>\n",
              "      <td>New Zealand dollar</td>\n",
              "      <td>138000.0</td>\n",
              "      <td>Yearly</td>\n",
              "      <td>95179.0</td>\n",
              "      <td>32.0</td>\n",
              "      <td>There is a schedule and/or spec (made by me or...</td>\n",
              "      <td>Being tasked with non-development work;Inadequ...</td>\n",
              "      <td>Less than once per month / Never</td>\n",
              "      <td>Office</td>\n",
              "      <td>A little above average</td>\n",
              "      <td>Yes, because I see value in code review</td>\n",
              "      <td>12.0</td>\n",
              "      <td>...</td>\n",
              "      <td>DynamoDB;PostgreSQL;SQLite</td>\n",
              "      <td>PostgreSQL;Redis;SQLite</td>\n",
              "      <td>AWS;Docker;Heroku;Linux;MacOS;Slack</td>\n",
              "      <td>AWS;Docker;Heroku;Linux;MacOS;Slack;Other(s):</td>\n",
              "      <td>Express;Ruby on Rails;Other(s):</td>\n",
              "      <td>Express;Ruby on Rails;Other(s):</td>\n",
              "      <td>Node.js;Unity 3D</td>\n",
              "      <td>Node.js</td>\n",
              "      <td>Vim</td>\n",
              "      <td>MacOS</td>\n",
              "      <td>Development;Testing;Production</td>\n",
              "      <td>Not at all</td>\n",
              "      <td>An irresponsible use of resources</td>\n",
              "      <td>No</td>\n",
              "      <td>SIGH</td>\n",
              "      <td>Yes</td>\n",
              "      <td>Twitter</td>\n",
              "      <td>In real life (in person)</td>\n",
              "      <td>Username</td>\n",
              "      <td>2013</td>\n",
              "      <td>Daily or almost daily</td>\n",
              "      <td>Find answers to specific questions;Contribute ...</td>\n",
              "      <td>3-5 times per week</td>\n",
              "      <td>They were about the same</td>\n",
              "      <td>NaN</td>\n",
              "      <td>Yes</td>\n",
              "      <td>Less than once per month or monthly</td>\n",
              "      <td>No, I knew that Stack Overflow had a job board...</td>\n",
              "      <td>No, and I don't know what those are</td>\n",
              "      <td>Yes, somewhat</td>\n",
              "      <td>Just as welcome now as I felt last year</td>\n",
              "      <td>NaN</td>\n",
              "      <td>23.0</td>\n",
              "      <td>Man</td>\n",
              "      <td>No</td>\n",
              "      <td>Bisexual</td>\n",
              "      <td>White or of European descent</td>\n",
              "      <td>No</td>\n",
              "      <td>Appropriate in length</td>\n",
              "      <td>Neither easy nor difficult</td>\n",
              "    </tr>\n",
              "    <tr>\n",
              "      <th>2</th>\n",
              "      <td>13</td>\n",
              "      <td>I am a developer by profession</td>\n",
              "      <td>Yes</td>\n",
              "      <td>Less than once a month but more than once per ...</td>\n",
              "      <td>OSS is, on average, of HIGHER quality than pro...</td>\n",
              "      <td>Employed full-time</td>\n",
              "      <td>United States</td>\n",
              "      <td>No</td>\n",
              "      <td>Master’s degree (MA, MS, M.Eng., MBA, etc.)</td>\n",
              "      <td>Computer science, computer engineering, or sof...</td>\n",
              "      <td>Taken an online course in programming or softw...</td>\n",
              "      <td>10 to 19 employees</td>\n",
              "      <td>Data or business analyst;Database administrato...</td>\n",
              "      <td>17</td>\n",
              "      <td>11</td>\n",
              "      <td>8</td>\n",
              "      <td>Very satisfied</td>\n",
              "      <td>Very satisfied</td>\n",
              "      <td>NaN</td>\n",
              "      <td>NaN</td>\n",
              "      <td>NaN</td>\n",
              "      <td>I am not interested in new job opportunities</td>\n",
              "      <td>3-4 years ago</td>\n",
              "      <td>Complete a take-home project;Interview with pe...</td>\n",
              "      <td>Yes</td>\n",
              "      <td>Languages, frameworks, and other technologies ...</td>\n",
              "      <td>I was preparing for a job search</td>\n",
              "      <td>USD</td>\n",
              "      <td>United States dollar</td>\n",
              "      <td>90000.0</td>\n",
              "      <td>Yearly</td>\n",
              "      <td>90000.0</td>\n",
              "      <td>40.0</td>\n",
              "      <td>There is a schedule and/or spec (made by me or...</td>\n",
              "      <td>Meetings;Non-work commitments (parenting, scho...</td>\n",
              "      <td>All or almost all the time (I'm full-time remote)</td>\n",
              "      <td>Home</td>\n",
              "      <td>A little above average</td>\n",
              "      <td>Yes, because I see value in code review</td>\n",
              "      <td>5.0</td>\n",
              "      <td>...</td>\n",
              "      <td>Couchbase;DynamoDB;Firebase;MySQL</td>\n",
              "      <td>Firebase;MySQL;Redis</td>\n",
              "      <td>Android;AWS;Docker;IBM Cloud or Watson;iOS;Lin...</td>\n",
              "      <td>Android;AWS;Docker;IBM Cloud or Watson;Linux;S...</td>\n",
              "      <td>Angular/Angular.js;ASP.NET;Express;jQuery;Vue.js</td>\n",
              "      <td>Express;Vue.js</td>\n",
              "      <td>Node.js;Xamarin</td>\n",
              "      <td>Node.js;TensorFlow</td>\n",
              "      <td>Vim;Visual Studio;Visual Studio Code;Xcode</td>\n",
              "      <td>Windows</td>\n",
              "      <td>Development;Testing;Production</td>\n",
              "      <td>Not at all</td>\n",
              "      <td>Useful for decentralized currency (i.e., Bitcoin)</td>\n",
              "      <td>Yes</td>\n",
              "      <td>Yes</td>\n",
              "      <td>Yes</td>\n",
              "      <td>Twitter</td>\n",
              "      <td>In real life (in person)</td>\n",
              "      <td>Username</td>\n",
              "      <td>2011</td>\n",
              "      <td>Multiple times per day</td>\n",
              "      <td>Find answers to specific questions</td>\n",
              "      <td>More than 10 times per week</td>\n",
              "      <td>Stack Overflow was much faster</td>\n",
              "      <td>11-30 minutes</td>\n",
              "      <td>Yes</td>\n",
              "      <td>Less than once per month or monthly</td>\n",
              "      <td>Yes</td>\n",
              "      <td>No, I've heard of them, but I am not part of a...</td>\n",
              "      <td>Neutral</td>\n",
              "      <td>Somewhat more welcome now than last year</td>\n",
              "      <td>Tech articles written by other developers;Cour...</td>\n",
              "      <td>28.0</td>\n",
              "      <td>Man</td>\n",
              "      <td>No</td>\n",
              "      <td>Straight / Heterosexual</td>\n",
              "      <td>White or of European descent</td>\n",
              "      <td>Yes</td>\n",
              "      <td>Appropriate in length</td>\n",
              "      <td>Easy</td>\n",
              "    </tr>\n",
              "    <tr>\n",
              "      <th>3</th>\n",
              "      <td>16</td>\n",
              "      <td>I am a developer by profession</td>\n",
              "      <td>Yes</td>\n",
              "      <td>Never</td>\n",
              "      <td>The quality of OSS and closed source software ...</td>\n",
              "      <td>Employed full-time</td>\n",
              "      <td>United Kingdom</td>\n",
              "      <td>No</td>\n",
              "      <td>Master’s degree (MA, MS, M.Eng., MBA, etc.)</td>\n",
              "      <td>NaN</td>\n",
              "      <td>Taken an online course in programming or softw...</td>\n",
              "      <td>100 to 499 employees</td>\n",
              "      <td>Developer, full-stack</td>\n",
              "      <td>10</td>\n",
              "      <td>17</td>\n",
              "      <td>3</td>\n",
              "      <td>Very satisfied</td>\n",
              "      <td>Slightly satisfied</td>\n",
              "      <td>Somewhat confident</td>\n",
              "      <td>No</td>\n",
              "      <td>No</td>\n",
              "      <td>I’m not actively looking, but I am open to new...</td>\n",
              "      <td>3-4 years ago</td>\n",
              "      <td>Interview with people in senior / management r...</td>\n",
              "      <td>Yes</td>\n",
              "      <td>Languages, frameworks, and other technologies ...</td>\n",
              "      <td>I heard about a job opportunity (from a recrui...</td>\n",
              "      <td>GBP</td>\n",
              "      <td>Pound sterling</td>\n",
              "      <td>29000.0</td>\n",
              "      <td>Monthly</td>\n",
              "      <td>455352.0</td>\n",
              "      <td>40.0</td>\n",
              "      <td>There is a schedule and/or spec (made by me or...</td>\n",
              "      <td>Being tasked with non-development work;Distrac...</td>\n",
              "      <td>A few days each month</td>\n",
              "      <td>Home</td>\n",
              "      <td>Average</td>\n",
              "      <td>No</td>\n",
              "      <td>NaN</td>\n",
              "      <td>...</td>\n",
              "      <td>MongoDB;Microsoft SQL Server;MySQL</td>\n",
              "      <td>Elasticsearch;MongoDB;Microsoft SQL Server;SQLite</td>\n",
              "      <td>NaN</td>\n",
              "      <td>AWS;Google Cloud Platform;Microsoft Azure</td>\n",
              "      <td>Angular/Angular.js;ASP.NET;jQuery</td>\n",
              "      <td>Angular/Angular.js;ASP.NET;React.js</td>\n",
              "      <td>.NET;.NET Core;Node.js</td>\n",
              "      <td>.NET Core;Node.js;React Native</td>\n",
              "      <td>Visual Studio;Visual Studio Code</td>\n",
              "      <td>Windows</td>\n",
              "      <td>I do not use containers</td>\n",
              "      <td>Not at all</td>\n",
              "      <td>A passing fad</td>\n",
              "      <td>No</td>\n",
              "      <td>SIGH</td>\n",
              "      <td>No</td>\n",
              "      <td>YouTube</td>\n",
              "      <td>Online</td>\n",
              "      <td>Username</td>\n",
              "      <td>2010</td>\n",
              "      <td>Multiple times per day</td>\n",
              "      <td>Find answers to specific questions;Learn how t...</td>\n",
              "      <td>Less than once per week</td>\n",
              "      <td>Stack Overflow was much faster</td>\n",
              "      <td>11-30 minutes</td>\n",
              "      <td>Yes</td>\n",
              "      <td>Less than once per month or monthly</td>\n",
              "      <td>Yes</td>\n",
              "      <td>No, I've heard of them, but I am not part of a...</td>\n",
              "      <td>Yes, somewhat</td>\n",
              "      <td>Just as welcome now as I felt last year</td>\n",
              "      <td>Tech articles written by other developers;Indu...</td>\n",
              "      <td>26.0</td>\n",
              "      <td>Man</td>\n",
              "      <td>No</td>\n",
              "      <td>Straight / Heterosexual</td>\n",
              "      <td>White or of European descent</td>\n",
              "      <td>No</td>\n",
              "      <td>Appropriate in length</td>\n",
              "      <td>Neither easy nor difficult</td>\n",
              "    </tr>\n",
              "    <tr>\n",
              "      <th>4</th>\n",
              "      <td>17</td>\n",
              "      <td>I am a developer by profession</td>\n",
              "      <td>Yes</td>\n",
              "      <td>Less than once a month but more than once per ...</td>\n",
              "      <td>The quality of OSS and closed source software ...</td>\n",
              "      <td>Employed full-time</td>\n",
              "      <td>Australia</td>\n",
              "      <td>No</td>\n",
              "      <td>Bachelor’s degree (BA, BS, B.Eng., etc.)</td>\n",
              "      <td>Computer science, computer engineering, or sof...</td>\n",
              "      <td>Taken an online course in programming or softw...</td>\n",
              "      <td>20 to 99 employees</td>\n",
              "      <td>Developer, back-end;Developer, front-end;Devel...</td>\n",
              "      <td>5</td>\n",
              "      <td>18</td>\n",
              "      <td>2</td>\n",
              "      <td>Slightly satisfied</td>\n",
              "      <td>Neither satisfied nor dissatisfied</td>\n",
              "      <td>Somewhat confident</td>\n",
              "      <td>No</td>\n",
              "      <td>No</td>\n",
              "      <td>I am actively looking for a job</td>\n",
              "      <td>Less than a year ago</td>\n",
              "      <td>Complete a take-home project;Interview with pe...</td>\n",
              "      <td>No</td>\n",
              "      <td>Languages, frameworks, and other technologies ...</td>\n",
              "      <td>I was preparing for a job search</td>\n",
              "      <td>AUD</td>\n",
              "      <td>Australian dollar</td>\n",
              "      <td>90000.0</td>\n",
              "      <td>Yearly</td>\n",
              "      <td>65277.0</td>\n",
              "      <td>45.0</td>\n",
              "      <td>There's no schedule or spec; I work on what se...</td>\n",
              "      <td>Distracting work environment;Meetings;Time spe...</td>\n",
              "      <td>A few days each month</td>\n",
              "      <td>Other place, such as a coworking space or cafe</td>\n",
              "      <td>A little above average</td>\n",
              "      <td>Yes, because I see value in code review</td>\n",
              "      <td>5.0</td>\n",
              "      <td>...</td>\n",
              "      <td>MongoDB;PostgreSQL</td>\n",
              "      <td>Elasticsearch;Firebase;MongoDB;PostgreSQL</td>\n",
              "      <td>Arduino;Docker;Heroku;Raspberry Pi;WordPress</td>\n",
              "      <td>Docker</td>\n",
              "      <td>Angular/Angular.js;Express;Spring</td>\n",
              "      <td>Angular/Angular.js;Express;React.js;Spring;Vue.js</td>\n",
              "      <td>Node.js</td>\n",
              "      <td>Node.js;React Native</td>\n",
              "      <td>IntelliJ;Visual Studio Code</td>\n",
              "      <td>Linux-based</td>\n",
              "      <td>Development;Testing;Production;Outside of work...</td>\n",
              "      <td>Not at all</td>\n",
              "      <td>A passing fad</td>\n",
              "      <td>Yes</td>\n",
              "      <td>Fortunately, someone else has that title</td>\n",
              "      <td>What?</td>\n",
              "      <td>YouTube</td>\n",
              "      <td>In real life (in person)</td>\n",
              "      <td>NaN</td>\n",
              "      <td>2014</td>\n",
              "      <td>Daily or almost daily</td>\n",
              "      <td>Find answers to specific questions;Learn how t...</td>\n",
              "      <td>6-10 times per week</td>\n",
              "      <td>Stack Overflow was slightly faster</td>\n",
              "      <td>0-10 minutes</td>\n",
              "      <td>Yes</td>\n",
              "      <td>A few times per week</td>\n",
              "      <td>No, I didn't know that Stack Overflow had a jo...</td>\n",
              "      <td>No, I've heard of them, but I am not part of a...</td>\n",
              "      <td>Yes, somewhat</td>\n",
              "      <td>Just as welcome now as I felt last year</td>\n",
              "      <td>Tech articles written by other developers;Indu...</td>\n",
              "      <td>29.0</td>\n",
              "      <td>Man</td>\n",
              "      <td>No</td>\n",
              "      <td>Straight / Heterosexual</td>\n",
              "      <td>Hispanic or Latino/Latina;Multiracial</td>\n",
              "      <td>No</td>\n",
              "      <td>Appropriate in length</td>\n",
              "      <td>Easy</td>\n",
              "    </tr>\n",
              "  </tbody>\n",
              "</table>\n",
              "<p>5 rows × 85 columns</p>\n",
              "</div>"
            ],
            "text/plain": [
              "   Respondent  ...                  SurveyEase\n",
              "0           4  ...                        Easy\n",
              "1           9  ...  Neither easy nor difficult\n",
              "2          13  ...                        Easy\n",
              "3          16  ...  Neither easy nor difficult\n",
              "4          17  ...                        Easy\n",
              "\n",
              "[5 rows x 85 columns]"
            ]
          },
          "metadata": {
            "tags": []
          },
          "execution_count": 2
        }
      ]
    },
    {
      "cell_type": "markdown",
      "metadata": {
        "id": "ClTALWCjyguf"
      },
      "source": [
        "## Finding duplicates\n"
      ]
    },
    {
      "cell_type": "markdown",
      "metadata": {
        "id": "uv_2iGpGyguf"
      },
      "source": [
        "In this section you will identify duplicate values in the dataset.\n"
      ]
    },
    {
      "cell_type": "markdown",
      "metadata": {
        "id": "myJacRB3yguf"
      },
      "source": [
        " Find how many duplicate rows exist in the dataframe.\n"
      ]
    },
    {
      "cell_type": "code",
      "metadata": {
        "colab": {
          "base_uri": "https://localhost:8080/",
          "height": 780
        },
        "id": "9OedKPf9ygug",
        "outputId": "e32065ab-1dd8-47a3-83b3-9d78bcfee95a"
      },
      "source": [
        "# your code goes here\n",
        "dup_df = df[df.duplicated()]\n",
        "dup_df.head()"
      ],
      "execution_count": 3,
      "outputs": [
        {
          "output_type": "execute_result",
          "data": {
            "text/html": [
              "<div>\n",
              "<style scoped>\n",
              "    .dataframe tbody tr th:only-of-type {\n",
              "        vertical-align: middle;\n",
              "    }\n",
              "\n",
              "    .dataframe tbody tr th {\n",
              "        vertical-align: top;\n",
              "    }\n",
              "\n",
              "    .dataframe thead th {\n",
              "        text-align: right;\n",
              "    }\n",
              "</style>\n",
              "<table border=\"1\" class=\"dataframe\">\n",
              "  <thead>\n",
              "    <tr style=\"text-align: right;\">\n",
              "      <th></th>\n",
              "      <th>Respondent</th>\n",
              "      <th>MainBranch</th>\n",
              "      <th>Hobbyist</th>\n",
              "      <th>OpenSourcer</th>\n",
              "      <th>OpenSource</th>\n",
              "      <th>Employment</th>\n",
              "      <th>Country</th>\n",
              "      <th>Student</th>\n",
              "      <th>EdLevel</th>\n",
              "      <th>UndergradMajor</th>\n",
              "      <th>EduOther</th>\n",
              "      <th>OrgSize</th>\n",
              "      <th>DevType</th>\n",
              "      <th>YearsCode</th>\n",
              "      <th>Age1stCode</th>\n",
              "      <th>YearsCodePro</th>\n",
              "      <th>CareerSat</th>\n",
              "      <th>JobSat</th>\n",
              "      <th>MgrIdiot</th>\n",
              "      <th>MgrMoney</th>\n",
              "      <th>MgrWant</th>\n",
              "      <th>JobSeek</th>\n",
              "      <th>LastHireDate</th>\n",
              "      <th>LastInt</th>\n",
              "      <th>FizzBuzz</th>\n",
              "      <th>JobFactors</th>\n",
              "      <th>ResumeUpdate</th>\n",
              "      <th>CurrencySymbol</th>\n",
              "      <th>CurrencyDesc</th>\n",
              "      <th>CompTotal</th>\n",
              "      <th>CompFreq</th>\n",
              "      <th>ConvertedComp</th>\n",
              "      <th>WorkWeekHrs</th>\n",
              "      <th>WorkPlan</th>\n",
              "      <th>WorkChallenge</th>\n",
              "      <th>WorkRemote</th>\n",
              "      <th>WorkLoc</th>\n",
              "      <th>ImpSyn</th>\n",
              "      <th>CodeRev</th>\n",
              "      <th>CodeRevHrs</th>\n",
              "      <th>...</th>\n",
              "      <th>DatabaseWorkedWith</th>\n",
              "      <th>DatabaseDesireNextYear</th>\n",
              "      <th>PlatformWorkedWith</th>\n",
              "      <th>PlatformDesireNextYear</th>\n",
              "      <th>WebFrameWorkedWith</th>\n",
              "      <th>WebFrameDesireNextYear</th>\n",
              "      <th>MiscTechWorkedWith</th>\n",
              "      <th>MiscTechDesireNextYear</th>\n",
              "      <th>DevEnviron</th>\n",
              "      <th>OpSys</th>\n",
              "      <th>Containers</th>\n",
              "      <th>BlockchainOrg</th>\n",
              "      <th>BlockchainIs</th>\n",
              "      <th>BetterLife</th>\n",
              "      <th>ITperson</th>\n",
              "      <th>OffOn</th>\n",
              "      <th>SocialMedia</th>\n",
              "      <th>Extraversion</th>\n",
              "      <th>ScreenName</th>\n",
              "      <th>SOVisit1st</th>\n",
              "      <th>SOVisitFreq</th>\n",
              "      <th>SOVisitTo</th>\n",
              "      <th>SOFindAnswer</th>\n",
              "      <th>SOTimeSaved</th>\n",
              "      <th>SOHowMuchTime</th>\n",
              "      <th>SOAccount</th>\n",
              "      <th>SOPartFreq</th>\n",
              "      <th>SOJobs</th>\n",
              "      <th>EntTeams</th>\n",
              "      <th>SOComm</th>\n",
              "      <th>WelcomeChange</th>\n",
              "      <th>SONewContent</th>\n",
              "      <th>Age</th>\n",
              "      <th>Gender</th>\n",
              "      <th>Trans</th>\n",
              "      <th>Sexuality</th>\n",
              "      <th>Ethnicity</th>\n",
              "      <th>Dependents</th>\n",
              "      <th>SurveyLength</th>\n",
              "      <th>SurveyEase</th>\n",
              "    </tr>\n",
              "  </thead>\n",
              "  <tbody>\n",
              "    <tr>\n",
              "      <th>1168</th>\n",
              "      <td>2339</td>\n",
              "      <td>I am a developer by profession</td>\n",
              "      <td>Yes</td>\n",
              "      <td>Once a month or more often</td>\n",
              "      <td>OSS is, on average, of HIGHER quality than pro...</td>\n",
              "      <td>Employed full-time</td>\n",
              "      <td>United States</td>\n",
              "      <td>No</td>\n",
              "      <td>Some college/university study without earning ...</td>\n",
              "      <td>Computer science, computer engineering, or sof...</td>\n",
              "      <td>Received on-the-job training in software devel...</td>\n",
              "      <td>5,000 to 9,999 employees</td>\n",
              "      <td>Developer, embedded applications or devices;De...</td>\n",
              "      <td>10</td>\n",
              "      <td>14</td>\n",
              "      <td>6</td>\n",
              "      <td>Very satisfied</td>\n",
              "      <td>Slightly satisfied</td>\n",
              "      <td>Somewhat confident</td>\n",
              "      <td>Yes</td>\n",
              "      <td>No</td>\n",
              "      <td>I’m not actively looking, but I am open to new...</td>\n",
              "      <td>1-2 years ago</td>\n",
              "      <td>Write any code;Complete a take-home project;In...</td>\n",
              "      <td>Yes</td>\n",
              "      <td>Specific department or team I'd be working on;...</td>\n",
              "      <td>I had a negative experience or interaction at ...</td>\n",
              "      <td>USD</td>\n",
              "      <td>United States dollar</td>\n",
              "      <td>100000.0</td>\n",
              "      <td>Yearly</td>\n",
              "      <td>100000.0</td>\n",
              "      <td>45.0</td>\n",
              "      <td>There is a schedule and/or spec (made by me or...</td>\n",
              "      <td>Not enough people for the workload</td>\n",
              "      <td>A few days each month</td>\n",
              "      <td>Home</td>\n",
              "      <td>A little above average</td>\n",
              "      <td>Yes, because I see value in code review</td>\n",
              "      <td>5.0</td>\n",
              "      <td>...</td>\n",
              "      <td>MariaDB;PostgreSQL;SQLite</td>\n",
              "      <td>Cassandra;MariaDB;PostgreSQL;Redis;SQLite</td>\n",
              "      <td>AWS;Docker;Linux;MacOS;Slack</td>\n",
              "      <td>Arduino;AWS;Docker;Kubernetes;Linux;MacOS;Rasp...</td>\n",
              "      <td>Express;React.js</td>\n",
              "      <td>Express;React.js;Spring;Vue.js</td>\n",
              "      <td>Node.js</td>\n",
              "      <td>Ansible;Apache Spark;Flutter;.NET Core;Node.js</td>\n",
              "      <td>Vim;Visual Studio Code</td>\n",
              "      <td>Linux-based</td>\n",
              "      <td>Development;Testing;Production;Outside of work...</td>\n",
              "      <td>Not at all</td>\n",
              "      <td>A passing fad</td>\n",
              "      <td>Yes</td>\n",
              "      <td>Yes</td>\n",
              "      <td>Yes</td>\n",
              "      <td>NaN</td>\n",
              "      <td>Online</td>\n",
              "      <td>Username</td>\n",
              "      <td>2011</td>\n",
              "      <td>Daily or almost daily</td>\n",
              "      <td>Find answers to specific questions;Contribute ...</td>\n",
              "      <td>1-2 times per week</td>\n",
              "      <td>They were about the same</td>\n",
              "      <td>NaN</td>\n",
              "      <td>Yes</td>\n",
              "      <td>Less than once per month or monthly</td>\n",
              "      <td>Yes</td>\n",
              "      <td>No, I've heard of them, but I am not part of a...</td>\n",
              "      <td>Yes, somewhat</td>\n",
              "      <td>Just as welcome now as I felt last year</td>\n",
              "      <td>NaN</td>\n",
              "      <td>24.0</td>\n",
              "      <td>Man</td>\n",
              "      <td>No</td>\n",
              "      <td>Straight / Heterosexual</td>\n",
              "      <td>White or of European descent</td>\n",
              "      <td>No</td>\n",
              "      <td>Appropriate in length</td>\n",
              "      <td>Easy</td>\n",
              "    </tr>\n",
              "    <tr>\n",
              "      <th>1169</th>\n",
              "      <td>2342</td>\n",
              "      <td>I am a developer by profession</td>\n",
              "      <td>Yes</td>\n",
              "      <td>Never</td>\n",
              "      <td>The quality of OSS and closed source software ...</td>\n",
              "      <td>Employed full-time</td>\n",
              "      <td>United Kingdom</td>\n",
              "      <td>No</td>\n",
              "      <td>Some college/university study without earning ...</td>\n",
              "      <td>Information systems, information technology, o...</td>\n",
              "      <td>Taken a part-time in-person course in programm...</td>\n",
              "      <td>20 to 99 employees</td>\n",
              "      <td>Developer, full-stack</td>\n",
              "      <td>7</td>\n",
              "      <td>9</td>\n",
              "      <td>5</td>\n",
              "      <td>Very satisfied</td>\n",
              "      <td>Very satisfied</td>\n",
              "      <td>Somewhat confident</td>\n",
              "      <td>No</td>\n",
              "      <td>Not sure</td>\n",
              "      <td>I am not interested in new job opportunities</td>\n",
              "      <td>Less than a year ago</td>\n",
              "      <td>Solve a brain-teaser style puzzle</td>\n",
              "      <td>No</td>\n",
              "      <td>Financial performance or funding status of the...</td>\n",
              "      <td>I heard about a job opportunity (from a recrui...</td>\n",
              "      <td>GBP</td>\n",
              "      <td>Pound sterling</td>\n",
              "      <td>45000.0</td>\n",
              "      <td>Yearly</td>\n",
              "      <td>58881.0</td>\n",
              "      <td>40.0</td>\n",
              "      <td>There is a schedule and/or spec (made by me or...</td>\n",
              "      <td>Time spent commuting</td>\n",
              "      <td>A few days each month</td>\n",
              "      <td>Office</td>\n",
              "      <td>A little above average</td>\n",
              "      <td>Yes, because I see value in code review</td>\n",
              "      <td>3.0</td>\n",
              "      <td>...</td>\n",
              "      <td>MariaDB;MySQL;Redis</td>\n",
              "      <td>MariaDB;MySQL;Redis</td>\n",
              "      <td>Android;Arduino;AWS;Linux;Raspberry Pi;Windows...</td>\n",
              "      <td>Linux;Windows</td>\n",
              "      <td>Angular/Angular.js;jQuery</td>\n",
              "      <td>Angular/Angular.js</td>\n",
              "      <td>Cordova;Node.js;TensorFlow</td>\n",
              "      <td>Node.js;TensorFlow</td>\n",
              "      <td>IntelliJ;Sublime Text</td>\n",
              "      <td>Windows</td>\n",
              "      <td>Development;Testing</td>\n",
              "      <td>Not at all</td>\n",
              "      <td>Useful for immutable record keeping outside of...</td>\n",
              "      <td>Yes</td>\n",
              "      <td>Yes</td>\n",
              "      <td>Yes</td>\n",
              "      <td>YouTube</td>\n",
              "      <td>Online</td>\n",
              "      <td>Username</td>\n",
              "      <td>2011</td>\n",
              "      <td>Daily or almost daily</td>\n",
              "      <td>Find answers to specific questions;Learn how t...</td>\n",
              "      <td>1-2 times per week</td>\n",
              "      <td>Stack Overflow was much faster</td>\n",
              "      <td>11-30 minutes</td>\n",
              "      <td>Yes</td>\n",
              "      <td>A few times per month or weekly</td>\n",
              "      <td>Yes</td>\n",
              "      <td>No, I've heard of them, but I am not part of a...</td>\n",
              "      <td>Yes, somewhat</td>\n",
              "      <td>Somewhat more welcome now than last year</td>\n",
              "      <td>Tech meetups or events in your area;Courses on...</td>\n",
              "      <td>24.0</td>\n",
              "      <td>Man</td>\n",
              "      <td>No</td>\n",
              "      <td>Straight / Heterosexual</td>\n",
              "      <td>White or of European descent</td>\n",
              "      <td>No</td>\n",
              "      <td>Too long</td>\n",
              "      <td>Easy</td>\n",
              "    </tr>\n",
              "    <tr>\n",
              "      <th>1170</th>\n",
              "      <td>2343</td>\n",
              "      <td>I am a developer by profession</td>\n",
              "      <td>Yes</td>\n",
              "      <td>Less than once a month but more than once per ...</td>\n",
              "      <td>OSS is, on average, of LOWER quality than prop...</td>\n",
              "      <td>Employed full-time</td>\n",
              "      <td>Canada</td>\n",
              "      <td>No</td>\n",
              "      <td>Master’s degree (MA, MS, M.Eng., MBA, etc.)</td>\n",
              "      <td>Computer science, computer engineering, or sof...</td>\n",
              "      <td>Taken an online course in programming or softw...</td>\n",
              "      <td>20 to 99 employees</td>\n",
              "      <td>Developer, front-end;Developer, full-stack</td>\n",
              "      <td>12</td>\n",
              "      <td>15</td>\n",
              "      <td>6</td>\n",
              "      <td>Slightly dissatisfied</td>\n",
              "      <td>Slightly satisfied</td>\n",
              "      <td>Somewhat confident</td>\n",
              "      <td>Yes</td>\n",
              "      <td>Not sure</td>\n",
              "      <td>I’m not actively looking, but I am open to new...</td>\n",
              "      <td>Less than a year ago</td>\n",
              "      <td>Interview with people in senior / management r...</td>\n",
              "      <td>No</td>\n",
              "      <td>Languages, frameworks, and other technologies ...</td>\n",
              "      <td>I heard about a job opportunity (from a recrui...</td>\n",
              "      <td>CAD</td>\n",
              "      <td>Canadian dollar</td>\n",
              "      <td>65000.0</td>\n",
              "      <td>Yearly</td>\n",
              "      <td>49620.0</td>\n",
              "      <td>40.0</td>\n",
              "      <td>There's no schedule or spec; I work on what se...</td>\n",
              "      <td>Time spent commuting;Toxic work environment</td>\n",
              "      <td>Less than once per month / Never</td>\n",
              "      <td>Office</td>\n",
              "      <td>A little above average</td>\n",
              "      <td>Yes, because I see value in code review</td>\n",
              "      <td>6.0</td>\n",
              "      <td>...</td>\n",
              "      <td>MongoDB;MySQL</td>\n",
              "      <td>Firebase;MongoDB;MySQL</td>\n",
              "      <td>Linux;Windows</td>\n",
              "      <td>Linux;Windows</td>\n",
              "      <td>Angular/Angular.js;jQuery;React.js</td>\n",
              "      <td>Angular/Angular.js;jQuery;React.js</td>\n",
              "      <td>Node.js</td>\n",
              "      <td>Node.js</td>\n",
              "      <td>Notepad++;Vim;Visual Studio;Visual Studio Code</td>\n",
              "      <td>Windows</td>\n",
              "      <td>I do not use containers</td>\n",
              "      <td>Not at all</td>\n",
              "      <td>NaN</td>\n",
              "      <td>Yes</td>\n",
              "      <td>Also Yes</td>\n",
              "      <td>Yes</td>\n",
              "      <td>Facebook</td>\n",
              "      <td>In real life (in person)</td>\n",
              "      <td>UserID</td>\n",
              "      <td>2012</td>\n",
              "      <td>Daily or almost daily</td>\n",
              "      <td>Find answers to specific questions;Learn how t...</td>\n",
              "      <td>More than 10 times per week</td>\n",
              "      <td>They were about the same</td>\n",
              "      <td>NaN</td>\n",
              "      <td>Yes</td>\n",
              "      <td>Daily or almost daily</td>\n",
              "      <td>No, I didn't know that Stack Overflow had a jo...</td>\n",
              "      <td>No, I've heard of them, but I am not part of a...</td>\n",
              "      <td>Yes, somewhat</td>\n",
              "      <td>Somewhat more welcome now than last year</td>\n",
              "      <td>Tech articles written by other developers;Indu...</td>\n",
              "      <td>27.0</td>\n",
              "      <td>Man</td>\n",
              "      <td>No</td>\n",
              "      <td>Straight / Heterosexual</td>\n",
              "      <td>Black or of African descent;White or of Europe...</td>\n",
              "      <td>No</td>\n",
              "      <td>Appropriate in length</td>\n",
              "      <td>Neither easy nor difficult</td>\n",
              "    </tr>\n",
              "    <tr>\n",
              "      <th>1171</th>\n",
              "      <td>2344</td>\n",
              "      <td>I am a developer by profession</td>\n",
              "      <td>Yes</td>\n",
              "      <td>Never</td>\n",
              "      <td>The quality of OSS and closed source software ...</td>\n",
              "      <td>Employed full-time</td>\n",
              "      <td>United States</td>\n",
              "      <td>No</td>\n",
              "      <td>Bachelor’s degree (BA, BS, B.Eng., etc.)</td>\n",
              "      <td>Computer science, computer engineering, or sof...</td>\n",
              "      <td>Taken an online course in programming or softw...</td>\n",
              "      <td>5,000 to 9,999 employees</td>\n",
              "      <td>Data or business analyst;Developer, full-stack</td>\n",
              "      <td>11</td>\n",
              "      <td>11</td>\n",
              "      <td>3</td>\n",
              "      <td>Slightly satisfied</td>\n",
              "      <td>Slightly satisfied</td>\n",
              "      <td>Very confident</td>\n",
              "      <td>Not sure</td>\n",
              "      <td>No</td>\n",
              "      <td>I am not interested in new job opportunities</td>\n",
              "      <td>Less than a year ago</td>\n",
              "      <td>Write any code;Write code by hand (e.g., on a ...</td>\n",
              "      <td>No</td>\n",
              "      <td>Languages, frameworks, and other technologies ...</td>\n",
              "      <td>I was preparing for a job search</td>\n",
              "      <td>USD</td>\n",
              "      <td>United States dollar</td>\n",
              "      <td>70000.0</td>\n",
              "      <td>Weekly</td>\n",
              "      <td>2000000.0</td>\n",
              "      <td>39.0</td>\n",
              "      <td>There is a schedule and/or spec (made by me or...</td>\n",
              "      <td>Lack of support from management;Meetings;Time ...</td>\n",
              "      <td>Less than once per month / Never</td>\n",
              "      <td>Office</td>\n",
              "      <td>A little above average</td>\n",
              "      <td>Yes, because I see value in code review</td>\n",
              "      <td>1.0</td>\n",
              "      <td>...</td>\n",
              "      <td>Microsoft SQL Server</td>\n",
              "      <td>Cassandra;Firebase;MongoDB;PostgreSQL;Redis;SQ...</td>\n",
              "      <td>Microsoft Azure;Windows</td>\n",
              "      <td>Android;AWS;Docker;Linux;Microsoft Azure</td>\n",
              "      <td>Angular/Angular.js;ASP.NET</td>\n",
              "      <td>Angular/Angular.js;Django</td>\n",
              "      <td>Node.js</td>\n",
              "      <td>Ansible;Chef;Node.js;Unity 3D</td>\n",
              "      <td>Notepad++;Visual Studio;Visual Studio Code</td>\n",
              "      <td>Windows</td>\n",
              "      <td>I do not use containers</td>\n",
              "      <td>Not at all</td>\n",
              "      <td>An irresponsible use of resources</td>\n",
              "      <td>Yes</td>\n",
              "      <td>Yes</td>\n",
              "      <td>Yes</td>\n",
              "      <td>Reddit</td>\n",
              "      <td>In real life (in person)</td>\n",
              "      <td>Username</td>\n",
              "      <td>2012</td>\n",
              "      <td>Multiple times per day</td>\n",
              "      <td>Find answers to specific questions;Learn how t...</td>\n",
              "      <td>6-10 times per week</td>\n",
              "      <td>Stack Overflow was slightly faster</td>\n",
              "      <td>0-10 minutes</td>\n",
              "      <td>No</td>\n",
              "      <td>NaN</td>\n",
              "      <td>Yes</td>\n",
              "      <td>No, I've heard of them, but I am not part of a...</td>\n",
              "      <td>Yes, somewhat</td>\n",
              "      <td>Just as welcome now as I felt last year</td>\n",
              "      <td>Tech articles written by other developers;Indu...</td>\n",
              "      <td>24.0</td>\n",
              "      <td>Man</td>\n",
              "      <td>No</td>\n",
              "      <td>Straight / Heterosexual</td>\n",
              "      <td>White or of European descent</td>\n",
              "      <td>No</td>\n",
              "      <td>Appropriate in length</td>\n",
              "      <td>Easy</td>\n",
              "    </tr>\n",
              "    <tr>\n",
              "      <th>1172</th>\n",
              "      <td>2347</td>\n",
              "      <td>I am a developer by profession</td>\n",
              "      <td>Yes</td>\n",
              "      <td>Never</td>\n",
              "      <td>OSS is, on average, of HIGHER quality than pro...</td>\n",
              "      <td>Employed full-time</td>\n",
              "      <td>United Kingdom</td>\n",
              "      <td>No</td>\n",
              "      <td>Master’s degree (MA, MS, M.Eng., MBA, etc.)</td>\n",
              "      <td>Computer science, computer engineering, or sof...</td>\n",
              "      <td>Taken an online course in programming or softw...</td>\n",
              "      <td>100 to 499 employees</td>\n",
              "      <td>Developer, full-stack</td>\n",
              "      <td>20</td>\n",
              "      <td>9</td>\n",
              "      <td>4</td>\n",
              "      <td>Slightly satisfied</td>\n",
              "      <td>Slightly dissatisfied</td>\n",
              "      <td>Somewhat confident</td>\n",
              "      <td>No</td>\n",
              "      <td>No</td>\n",
              "      <td>I’m not actively looking, but I am open to new...</td>\n",
              "      <td>1-2 years ago</td>\n",
              "      <td>Write any code;Complete a take-home project;In...</td>\n",
              "      <td>No</td>\n",
              "      <td>Opportunities for professional development;Div...</td>\n",
              "      <td>I had a negative experience or interaction at ...</td>\n",
              "      <td>GBP</td>\n",
              "      <td>Pound sterling</td>\n",
              "      <td>35000.0</td>\n",
              "      <td>Yearly</td>\n",
              "      <td>45797.0</td>\n",
              "      <td>37.5</td>\n",
              "      <td>There is a schedule and/or spec (made by me or...</td>\n",
              "      <td>Being tasked with non-development work;Distrac...</td>\n",
              "      <td>Less than once per month / Never</td>\n",
              "      <td>Office</td>\n",
              "      <td>Average</td>\n",
              "      <td>Yes, because I see value in code review</td>\n",
              "      <td>2.0</td>\n",
              "      <td>...</td>\n",
              "      <td>Elasticsearch;PostgreSQL</td>\n",
              "      <td>Elasticsearch;PostgreSQL</td>\n",
              "      <td>Heroku</td>\n",
              "      <td>Heroku</td>\n",
              "      <td>Ruby on Rails</td>\n",
              "      <td>React.js;Ruby on Rails</td>\n",
              "      <td>NaN</td>\n",
              "      <td>NaN</td>\n",
              "      <td>Atom;Sublime Text</td>\n",
              "      <td>MacOS</td>\n",
              "      <td>Development;Testing</td>\n",
              "      <td>Not at all</td>\n",
              "      <td>A passing fad</td>\n",
              "      <td>No</td>\n",
              "      <td>SIGH</td>\n",
              "      <td>Yes</td>\n",
              "      <td>Reddit</td>\n",
              "      <td>In real life (in person)</td>\n",
              "      <td>Username</td>\n",
              "      <td>2014</td>\n",
              "      <td>A few times per week</td>\n",
              "      <td>Find answers to specific questions</td>\n",
              "      <td>1-2 times per week</td>\n",
              "      <td>The other resource was much faster</td>\n",
              "      <td>11-30 minutes</td>\n",
              "      <td>No</td>\n",
              "      <td>NaN</td>\n",
              "      <td>Yes</td>\n",
              "      <td>No, I've heard of them, but I am not part of a...</td>\n",
              "      <td>No, not at all</td>\n",
              "      <td>Just as welcome now as I felt last year</td>\n",
              "      <td>NaN</td>\n",
              "      <td>NaN</td>\n",
              "      <td>Woman</td>\n",
              "      <td>No</td>\n",
              "      <td>Straight / Heterosexual</td>\n",
              "      <td>Biracial</td>\n",
              "      <td>No</td>\n",
              "      <td>Too long</td>\n",
              "      <td>Easy</td>\n",
              "    </tr>\n",
              "  </tbody>\n",
              "</table>\n",
              "<p>5 rows × 85 columns</p>\n",
              "</div>"
            ],
            "text/plain": [
              "      Respondent  ...                  SurveyEase\n",
              "1168        2339  ...                        Easy\n",
              "1169        2342  ...                        Easy\n",
              "1170        2343  ...  Neither easy nor difficult\n",
              "1171        2344  ...                        Easy\n",
              "1172        2347  ...                        Easy\n",
              "\n",
              "[5 rows x 85 columns]"
            ]
          },
          "metadata": {
            "tags": []
          },
          "execution_count": 3
        }
      ]
    },
    {
      "cell_type": "markdown",
      "metadata": {
        "id": "a90dGlYNygug"
      },
      "source": [
        "## Removing duplicates\n"
      ]
    },
    {
      "cell_type": "markdown",
      "metadata": {
        "id": "AGu0HQ4bygug"
      },
      "source": [
        "Remove the duplicate rows from the dataframe.\n"
      ]
    },
    {
      "cell_type": "code",
      "metadata": {
        "colab": {
          "base_uri": "https://localhost:8080/"
        },
        "id": "MDHcFV-Nygug",
        "outputId": "bc97cb66-de65-4e6e-9eb9-48a1749daba8"
      },
      "source": [
        "# your code goes here\n",
        "df_nodup = df.drop_duplicates()\n",
        "df_nodup.shape"
      ],
      "execution_count": 4,
      "outputs": [
        {
          "output_type": "execute_result",
          "data": {
            "text/plain": [
              "(11398, 85)"
            ]
          },
          "metadata": {
            "tags": []
          },
          "execution_count": 4
        }
      ]
    },
    {
      "cell_type": "markdown",
      "metadata": {
        "id": "L0beLjfLygug"
      },
      "source": [
        "Verify if duplicates were actually dropped.\n"
      ]
    },
    {
      "cell_type": "code",
      "metadata": {
        "colab": {
          "base_uri": "https://localhost:8080/"
        },
        "id": "SjLBnFokygug",
        "outputId": "8d75b37c-af54-45e6-d379-05cc8dac6341"
      },
      "source": [
        "# your code goes here\n",
        "df_nodup.duplicated"
      ],
      "execution_count": 5,
      "outputs": [
        {
          "output_type": "execute_result",
          "data": {
            "text/plain": [
              "<bound method DataFrame.duplicated of        Respondent  ...                  SurveyEase\n",
              "0               4  ...                        Easy\n",
              "1               9  ...  Neither easy nor difficult\n",
              "2              13  ...                        Easy\n",
              "3              16  ...  Neither easy nor difficult\n",
              "4              17  ...                        Easy\n",
              "...           ...  ...                         ...\n",
              "11547       25136  ...                   Difficult\n",
              "11548       25137  ...  Neither easy nor difficult\n",
              "11549       25138  ...                        Easy\n",
              "11550       25141  ...                        Easy\n",
              "11551       25142  ...                        Easy\n",
              "\n",
              "[11398 rows x 85 columns]>"
            ]
          },
          "metadata": {
            "tags": []
          },
          "execution_count": 5
        }
      ]
    },
    {
      "cell_type": "markdown",
      "metadata": {
        "id": "pRy-3TP9yguh"
      },
      "source": [
        "## Finding Missing values\n"
      ]
    },
    {
      "cell_type": "markdown",
      "metadata": {
        "id": "yU3QYThNyguh"
      },
      "source": [
        "Find the missing values for all columns.\n"
      ]
    },
    {
      "cell_type": "code",
      "metadata": {
        "colab": {
          "base_uri": "https://localhost:8080/"
        },
        "id": "CUfxIZAKyguh",
        "outputId": "87fb74c7-c172-4e94-f2f4-3639ab722fa9"
      },
      "source": [
        "# your code goes here\n",
        "miss = df_nodup.isnull()\n",
        "\n",
        "for column in miss.columns.values.tolist():\n",
        "    print(column)\n",
        "    print (miss[column].value_counts())\n",
        "    print(\"\")"
      ],
      "execution_count": 6,
      "outputs": [
        {
          "output_type": "stream",
          "text": [
            "Respondent\n",
            "False    11398\n",
            "Name: Respondent, dtype: int64\n",
            "\n",
            "MainBranch\n",
            "False    11398\n",
            "Name: MainBranch, dtype: int64\n",
            "\n",
            "Hobbyist\n",
            "False    11398\n",
            "Name: Hobbyist, dtype: int64\n",
            "\n",
            "OpenSourcer\n",
            "False    11398\n",
            "Name: OpenSourcer, dtype: int64\n",
            "\n",
            "OpenSource\n",
            "False    11317\n",
            "True        81\n",
            "Name: OpenSource, dtype: int64\n",
            "\n",
            "Employment\n",
            "False    11398\n",
            "Name: Employment, dtype: int64\n",
            "\n",
            "Country\n",
            "False    11398\n",
            "Name: Country, dtype: int64\n",
            "\n",
            "Student\n",
            "False    11347\n",
            "True        51\n",
            "Name: Student, dtype: int64\n",
            "\n",
            "EdLevel\n",
            "False    11286\n",
            "True       112\n",
            "Name: EdLevel, dtype: int64\n",
            "\n",
            "UndergradMajor\n",
            "False    10661\n",
            "True       737\n",
            "Name: UndergradMajor, dtype: int64\n",
            "\n",
            "EduOther\n",
            "False    11234\n",
            "True       164\n",
            "Name: EduOther, dtype: int64\n",
            "\n",
            "OrgSize\n",
            "False    11302\n",
            "True        96\n",
            "Name: OrgSize, dtype: int64\n",
            "\n",
            "DevType\n",
            "False    11333\n",
            "True        65\n",
            "Name: DevType, dtype: int64\n",
            "\n",
            "YearsCode\n",
            "False    11389\n",
            "True         9\n",
            "Name: YearsCode, dtype: int64\n",
            "\n",
            "Age1stCode\n",
            "False    11385\n",
            "True        13\n",
            "Name: Age1stCode, dtype: int64\n",
            "\n",
            "YearsCodePro\n",
            "False    11382\n",
            "True        16\n",
            "Name: YearsCodePro, dtype: int64\n",
            "\n",
            "CareerSat\n",
            "False    11398\n",
            "Name: CareerSat, dtype: int64\n",
            "\n",
            "JobSat\n",
            "False    11397\n",
            "True         1\n",
            "Name: JobSat, dtype: int64\n",
            "\n",
            "MgrIdiot\n",
            "False    10905\n",
            "True       493\n",
            "Name: MgrIdiot, dtype: int64\n",
            "\n",
            "MgrMoney\n",
            "False    10901\n",
            "True       497\n",
            "Name: MgrMoney, dtype: int64\n",
            "\n",
            "MgrWant\n",
            "False    10905\n",
            "True       493\n",
            "Name: MgrWant, dtype: int64\n",
            "\n",
            "JobSeek\n",
            "False    11398\n",
            "Name: JobSeek, dtype: int64\n",
            "\n",
            "LastHireDate\n",
            "False    11398\n",
            "Name: LastHireDate, dtype: int64\n",
            "\n",
            "LastInt\n",
            "False    10985\n",
            "True       413\n",
            "Name: LastInt, dtype: int64\n",
            "\n",
            "FizzBuzz\n",
            "False    11361\n",
            "True        37\n",
            "Name: FizzBuzz, dtype: int64\n",
            "\n",
            "JobFactors\n",
            "False    11395\n",
            "True         3\n",
            "Name: JobFactors, dtype: int64\n",
            "\n",
            "ResumeUpdate\n",
            "False    11359\n",
            "True        39\n",
            "Name: ResumeUpdate, dtype: int64\n",
            "\n",
            "CurrencySymbol\n",
            "False    11398\n",
            "Name: CurrencySymbol, dtype: int64\n",
            "\n",
            "CurrencyDesc\n",
            "False    11398\n",
            "Name: CurrencyDesc, dtype: int64\n",
            "\n",
            "CompTotal\n",
            "False    10589\n",
            "True       809\n",
            "Name: CompTotal, dtype: int64\n",
            "\n",
            "CompFreq\n",
            "False    11192\n",
            "True       206\n",
            "Name: CompFreq, dtype: int64\n",
            "\n",
            "ConvertedComp\n",
            "False    10582\n",
            "True       816\n",
            "Name: ConvertedComp, dtype: int64\n",
            "\n",
            "WorkWeekHrs\n",
            "False    11276\n",
            "True       122\n",
            "Name: WorkWeekHrs, dtype: int64\n",
            "\n",
            "WorkPlan\n",
            "False    11277\n",
            "True       121\n",
            "Name: WorkPlan, dtype: int64\n",
            "\n",
            "WorkChallenge\n",
            "False    11234\n",
            "True       164\n",
            "Name: WorkChallenge, dtype: int64\n",
            "\n",
            "WorkRemote\n",
            "False    11390\n",
            "True         8\n",
            "Name: WorkRemote, dtype: int64\n",
            "\n",
            "WorkLoc\n",
            "False    11366\n",
            "True        32\n",
            "Name: WorkLoc, dtype: int64\n",
            "\n",
            "ImpSyn\n",
            "False    11393\n",
            "True         5\n",
            "Name: ImpSyn, dtype: int64\n",
            "\n",
            "CodeRev\n",
            "False    11397\n",
            "True         1\n",
            "Name: CodeRev, dtype: int64\n",
            "\n",
            "CodeRevHrs\n",
            "False    8972\n",
            "True     2426\n",
            "Name: CodeRevHrs, dtype: int64\n",
            "\n",
            "UnitTests\n",
            "False    11369\n",
            "True        29\n",
            "Name: UnitTests, dtype: int64\n",
            "\n",
            "PurchaseHow\n",
            "False    11202\n",
            "True       196\n",
            "Name: PurchaseHow, dtype: int64\n",
            "\n",
            "PurchaseWhat\n",
            "False    11360\n",
            "True        38\n",
            "Name: PurchaseWhat, dtype: int64\n",
            "\n",
            "LanguageWorkedWith\n",
            "False    11387\n",
            "True        11\n",
            "Name: LanguageWorkedWith, dtype: int64\n",
            "\n",
            "LanguageDesireNextYear\n",
            "False    11264\n",
            "True       134\n",
            "Name: LanguageDesireNextYear, dtype: int64\n",
            "\n",
            "DatabaseWorkedWith\n",
            "False    10945\n",
            "True       453\n",
            "Name: DatabaseWorkedWith, dtype: int64\n",
            "\n",
            "DatabaseDesireNextYear\n",
            "False    10356\n",
            "True      1042\n",
            "Name: DatabaseDesireNextYear, dtype: int64\n",
            "\n",
            "PlatformWorkedWith\n",
            "False    10987\n",
            "True       411\n",
            "Name: PlatformWorkedWith, dtype: int64\n",
            "\n",
            "PlatformDesireNextYear\n",
            "False    10854\n",
            "True       544\n",
            "Name: PlatformDesireNextYear, dtype: int64\n",
            "\n",
            "WebFrameWorkedWith\n",
            "False    10005\n",
            "True      1393\n",
            "Name: WebFrameWorkedWith, dtype: int64\n",
            "\n",
            "WebFrameDesireNextYear\n",
            "False    9781\n",
            "True     1617\n",
            "Name: WebFrameDesireNextYear, dtype: int64\n",
            "\n",
            "MiscTechWorkedWith\n",
            "False    9216\n",
            "True     2182\n",
            "Name: MiscTechWorkedWith, dtype: int64\n",
            "\n",
            "MiscTechDesireNextYear\n",
            "False    9943\n",
            "True     1455\n",
            "Name: MiscTechDesireNextYear, dtype: int64\n",
            "\n",
            "DevEnviron\n",
            "False    11369\n",
            "True        29\n",
            "Name: DevEnviron, dtype: int64\n",
            "\n",
            "OpSys\n",
            "False    11364\n",
            "True        34\n",
            "Name: OpSys, dtype: int64\n",
            "\n",
            "Containers\n",
            "False    11316\n",
            "True        82\n",
            "Name: Containers, dtype: int64\n",
            "\n",
            "BlockchainOrg\n",
            "False    9076\n",
            "True     2322\n",
            "Name: BlockchainOrg, dtype: int64\n",
            "\n",
            "BlockchainIs\n",
            "False    8788\n",
            "True     2610\n",
            "Name: BlockchainIs, dtype: int64\n",
            "\n",
            "BetterLife\n",
            "False    11300\n",
            "True        98\n",
            "Name: BetterLife, dtype: int64\n",
            "\n",
            "ITperson\n",
            "False    11363\n",
            "True        35\n",
            "Name: ITperson, dtype: int64\n",
            "\n",
            "OffOn\n",
            "False    11360\n",
            "True        38\n",
            "Name: OffOn, dtype: int64\n",
            "\n",
            "SocialMedia\n",
            "False    11105\n",
            "True       293\n",
            "Name: SocialMedia, dtype: int64\n",
            "\n",
            "Extraversion\n",
            "False    11378\n",
            "True        20\n",
            "Name: Extraversion, dtype: int64\n",
            "\n",
            "ScreenName\n",
            "False    10891\n",
            "True       507\n",
            "Name: ScreenName, dtype: int64\n",
            "\n",
            "SOVisit1st\n",
            "False    11073\n",
            "True       325\n",
            "Name: SOVisit1st, dtype: int64\n",
            "\n",
            "SOVisitFreq\n",
            "False    11393\n",
            "True         5\n",
            "Name: SOVisitFreq, dtype: int64\n",
            "\n",
            "SOVisitTo\n",
            "False    11397\n",
            "True         1\n",
            "Name: SOVisitTo, dtype: int64\n",
            "\n",
            "SOFindAnswer\n",
            "False    11395\n",
            "True         3\n",
            "Name: SOFindAnswer, dtype: int64\n",
            "\n",
            "SOTimeSaved\n",
            "False    11348\n",
            "True        50\n",
            "Name: SOTimeSaved, dtype: int64\n",
            "\n",
            "SOHowMuchTime\n",
            "False    9481\n",
            "True     1917\n",
            "Name: SOHowMuchTime, dtype: int64\n",
            "\n",
            "SOAccount\n",
            "False    11397\n",
            "True         1\n",
            "Name: SOAccount, dtype: int64\n",
            "\n",
            "SOPartFreq\n",
            "False    10270\n",
            "True      1128\n",
            "Name: SOPartFreq, dtype: int64\n",
            "\n",
            "SOJobs\n",
            "False    11392\n",
            "True         6\n",
            "Name: SOJobs, dtype: int64\n",
            "\n",
            "EntTeams\n",
            "False    11393\n",
            "True         5\n",
            "Name: EntTeams, dtype: int64\n",
            "\n",
            "SOComm\n",
            "False    11398\n",
            "Name: SOComm, dtype: int64\n",
            "\n",
            "WelcomeChange\n",
            "False    11313\n",
            "True        85\n",
            "Name: WelcomeChange, dtype: int64\n",
            "\n",
            "SONewContent\n",
            "False    9433\n",
            "True     1965\n",
            "Name: SONewContent, dtype: int64\n",
            "\n",
            "Age\n",
            "False    11111\n",
            "True       287\n",
            "Name: Age, dtype: int64\n",
            "\n",
            "Gender\n",
            "False    11325\n",
            "True        73\n",
            "Name: Gender, dtype: int64\n",
            "\n",
            "Trans\n",
            "False    11275\n",
            "True       123\n",
            "Name: Trans, dtype: int64\n",
            "\n",
            "Sexuality\n",
            "False    10856\n",
            "True       542\n",
            "Name: Sexuality, dtype: int64\n",
            "\n",
            "Ethnicity\n",
            "False    10723\n",
            "True       675\n",
            "Name: Ethnicity, dtype: int64\n",
            "\n",
            "Dependents\n",
            "False    11258\n",
            "True       140\n",
            "Name: Dependents, dtype: int64\n",
            "\n",
            "SurveyLength\n",
            "False    11379\n",
            "True        19\n",
            "Name: SurveyLength, dtype: int64\n",
            "\n",
            "SurveyEase\n",
            "False    11384\n",
            "True        14\n",
            "Name: SurveyEase, dtype: int64\n",
            "\n"
          ],
          "name": "stdout"
        }
      ]
    },
    {
      "cell_type": "markdown",
      "metadata": {
        "id": "GFgeLAg9ygui"
      },
      "source": [
        "Find out how many rows are missing in the column 'WorkLoc'\n"
      ]
    },
    {
      "cell_type": "code",
      "metadata": {
        "colab": {
          "base_uri": "https://localhost:8080/"
        },
        "id": "1VPtioMVygui",
        "outputId": "55606e3f-01f0-4d2a-9f4a-27e29d458f7b"
      },
      "source": [
        "# your code goes here\r\n",
        "print (miss['WorkLoc'].value_counts())\r\n",
        "print (miss['EdLevel'].value_counts())\r\n",
        "print (miss['Country'].value_counts())\r\n",
        "print (miss['ConvertedComp'].value_counts())"
      ],
      "execution_count": 7,
      "outputs": [
        {
          "output_type": "stream",
          "text": [
            "False    11366\n",
            "True        32\n",
            "Name: WorkLoc, dtype: int64\n",
            "False    11286\n",
            "True       112\n",
            "Name: EdLevel, dtype: int64\n",
            "False    11398\n",
            "Name: Country, dtype: int64\n",
            "False    10582\n",
            "True       816\n",
            "Name: ConvertedComp, dtype: int64\n"
          ],
          "name": "stdout"
        }
      ]
    },
    {
      "cell_type": "code",
      "metadata": {
        "colab": {
          "base_uri": "https://localhost:8080/",
          "height": 293
        },
        "id": "P1nWtjuV8gdC",
        "outputId": "17edd93b-e8f7-432b-8209-9769194a6084"
      },
      "source": [
        "df_nodup[['ConvertedComp']].boxplot()"
      ],
      "execution_count": 8,
      "outputs": [
        {
          "output_type": "execute_result",
          "data": {
            "text/plain": [
              "<matplotlib.axes._subplots.AxesSubplot at 0x7f5a57ec99b0>"
            ]
          },
          "metadata": {
            "tags": []
          },
          "execution_count": 8
        },
        {
          "output_type": "display_data",
          "data": {
            "image/png": "[encoded data removed]",
            "text/plain": [
              "<Figure size 432x288 with 1 Axes>"
            ]
          },
          "metadata": {
            "tags": [],
            "needs_background": "light"
          }
        }
      ]
    },
    {
      "cell_type": "markdown",
      "metadata": {
        "id": "URdU_T4Cygui"
      },
      "source": [
        "## Imputing missing values\n"
      ]
    },
    {
      "cell_type": "markdown",
      "metadata": {
        "id": "de85wz1Aygui"
      },
      "source": [
        "Find the  value counts for the column WorkLoc.\n"
      ]
    },
    {
      "cell_type": "code",
      "metadata": {
        "colab": {
          "base_uri": "https://localhost:8080/"
        },
        "id": "sH2KZRi8yguj",
        "outputId": "71008a99-adc4-4352-92f3-945efea3f91e"
      },
      "source": [
        "# your code goes here\n",
        "df_nodup['WorkLoc'].value_counts()"
      ],
      "execution_count": 9,
      "outputs": [
        {
          "output_type": "execute_result",
          "data": {
            "text/plain": [
              "Office                                            6806\n",
              "Home                                              3589\n",
              "Other place, such as a coworking space or cafe     971\n",
              "Name: WorkLoc, dtype: int64"
            ]
          },
          "metadata": {
            "tags": []
          },
          "execution_count": 9
        }
      ]
    },
    {
      "cell_type": "markdown",
      "metadata": {
        "id": "oZua66Slyguj"
      },
      "source": [
        "Identify the value that is most frequent (majority) in the WorkLoc column.\n"
      ]
    },
    {
      "cell_type": "code",
      "metadata": {
        "colab": {
          "base_uri": "https://localhost:8080/",
          "height": 35
        },
        "id": "3zEmLLPnyguj",
        "outputId": "28792442-702a-4c52-957d-4919e5ed093f"
      },
      "source": [
        "#make a note of the majority value here, for future reference\n",
        "wl_mod = df_nodup['WorkLoc'].value_counts().max()\n",
        "wl_mode = df_nodup['WorkLoc'][wl_mod]\n",
        "wl_mode"
      ],
      "execution_count": 10,
      "outputs": [
        {
          "output_type": "execute_result",
          "data": {
            "application/vnd.google.colaboratory.intrinsic+json": {
              "type": "string"
            },
            "text/plain": [
              "'Office'"
            ]
          },
          "metadata": {
            "tags": []
          },
          "execution_count": 10
        }
      ]
    },
    {
      "cell_type": "markdown",
      "metadata": {
        "id": "nuZcylDoyguj"
      },
      "source": [
        "Impute (replace) all the empty rows in the column WorkLoc with the value that you have identified as majority.\n"
      ]
    },
    {
      "cell_type": "code",
      "metadata": {
        "id": "Hd7qAPYSyguj",
        "colab": {
          "base_uri": "https://localhost:8080/"
        },
        "outputId": "e7fd81fd-a6bd-4d75-9080-682a09963834"
      },
      "source": [
        "# your code goes here\n",
        "import numpy as np\n",
        "df_nodup['WorkLoc'].replace(np.nan, wl_mode, inplace=True)"
      ],
      "execution_count": 11,
      "outputs": [
        {
          "output_type": "stream",
          "text": [
            "/usr/local/lib/python3.6/dist-packages/pandas/core/series.py:4582: SettingWithCopyWarning: \n",
            "A value is trying to be set on a copy of a slice from a DataFrame\n",
            "\n",
            "See the caveats in the documentation: https://pandas.pydata.org/pandas-docs/stable/user_guide/indexing.html#returning-a-view-versus-a-copy\n",
            "  method=method,\n"
          ],
          "name": "stderr"
        }
      ]
    },
    {
      "cell_type": "markdown",
      "metadata": {
        "id": "aXn1jcL0yguj"
      },
      "source": [
        "After imputation there should ideally not be any empty rows in the WorkLoc column.\n"
      ]
    },
    {
      "cell_type": "markdown",
      "metadata": {
        "id": "fdaAxTDIyguj"
      },
      "source": [
        "Verify if imputing was successful.\n"
      ]
    },
    {
      "cell_type": "code",
      "metadata": {
        "colab": {
          "base_uri": "https://localhost:8080/"
        },
        "id": "4r5eInsgyguk",
        "outputId": "a99a3fc7-512e-44ea-b192-8c615448d535"
      },
      "source": [
        "# your code goes here\n",
        "df_nodup['WorkLoc'].isnull().value_counts()"
      ],
      "execution_count": 12,
      "outputs": [
        {
          "output_type": "execute_result",
          "data": {
            "text/plain": [
              "False    11398\n",
              "Name: WorkLoc, dtype: int64"
            ]
          },
          "metadata": {
            "tags": []
          },
          "execution_count": 12
        }
      ]
    },
    {
      "cell_type": "markdown",
      "metadata": {
        "id": "uy45hZKpyguk"
      },
      "source": [
        "## Normalizing data\n"
      ]
    },
    {
      "cell_type": "markdown",
      "metadata": {
        "id": "OJ0mpeGbyguk"
      },
      "source": [
        "There are two columns in the dataset that talk about compensation.\n",
        "\n",
        "One is \"CompFreq\". This column shows how often a developer is paid (Yearly, Monthly, Weekly).\n",
        "\n",
        "The other is \"CompTotal\". This column talks about how much the developer is paid per Year, Month, or Week depending upon his/her \"CompFreq\". \n",
        "\n",
        "This makes it difficult to compare the total compensation of the developers.\n",
        "\n",
        "In this section you will create a new column called 'NormalizedAnnualCompensation' which contains the 'Annual Compensation' irrespective of the 'CompFreq'.\n",
        "\n",
        "Once this column is ready, it makes comparison of salaries easy.\n"
      ]
    },
    {
      "cell_type": "markdown",
      "metadata": {
        "id": "wTiYQS3qyguk"
      },
      "source": [
        "<hr>\n"
      ]
    },
    {
      "cell_type": "markdown",
      "metadata": {
        "id": "SHNimYzzyguk"
      },
      "source": [
        "List out the various categories in the column 'CompFreq'\n"
      ]
    },
    {
      "cell_type": "code",
      "metadata": {
        "colab": {
          "base_uri": "https://localhost:8080/"
        },
        "id": "rFTVYlDryguk",
        "outputId": "237275b6-c5df-4c93-bd8d-ab9c34da958d"
      },
      "source": [
        "# your code goes here\n",
        "df_nodup = df.drop_duplicates()\n",
        "df_nodup[['CompFreq']].value_counts()"
      ],
      "execution_count": 13,
      "outputs": [
        {
          "output_type": "execute_result",
          "data": {
            "text/plain": [
              "CompFreq\n",
              "Yearly      6073\n",
              "Monthly     4788\n",
              "Weekly       331\n",
              "dtype: int64"
            ]
          },
          "metadata": {
            "tags": []
          },
          "execution_count": 13
        }
      ]
    },
    {
      "cell_type": "markdown",
      "metadata": {
        "id": "cc1VpEhCygul"
      },
      "source": [
        "Create a new column named 'NormalizedAnnualCompensation'. Use the hint given below if needed.\n"
      ]
    },
    {
      "cell_type": "code",
      "metadata": {
        "colab": {
          "base_uri": "https://localhost:8080/",
          "height": 204
        },
        "id": "zxJPHwEI-ab7",
        "outputId": "0ebe0645-ad5c-47ee-e8e9-9a12a3e730b7"
      },
      "source": [
        "df_nodup[['CompFreq', 'CompTotal']].head()"
      ],
      "execution_count": 14,
      "outputs": [
        {
          "output_type": "execute_result",
          "data": {
            "text/html": [
              "<div>\n",
              "<style scoped>\n",
              "    .dataframe tbody tr th:only-of-type {\n",
              "        vertical-align: middle;\n",
              "    }\n",
              "\n",
              "    .dataframe tbody tr th {\n",
              "        vertical-align: top;\n",
              "    }\n",
              "\n",
              "    .dataframe thead th {\n",
              "        text-align: right;\n",
              "    }\n",
              "</style>\n",
              "<table border=\"1\" class=\"dataframe\">\n",
              "  <thead>\n",
              "    <tr style=\"text-align: right;\">\n",
              "      <th></th>\n",
              "      <th>CompFreq</th>\n",
              "      <th>CompTotal</th>\n",
              "    </tr>\n",
              "  </thead>\n",
              "  <tbody>\n",
              "    <tr>\n",
              "      <th>0</th>\n",
              "      <td>Yearly</td>\n",
              "      <td>61000.0</td>\n",
              "    </tr>\n",
              "    <tr>\n",
              "      <th>1</th>\n",
              "      <td>Yearly</td>\n",
              "      <td>138000.0</td>\n",
              "    </tr>\n",
              "    <tr>\n",
              "      <th>2</th>\n",
              "      <td>Yearly</td>\n",
              "      <td>90000.0</td>\n",
              "    </tr>\n",
              "    <tr>\n",
              "      <th>3</th>\n",
              "      <td>Monthly</td>\n",
              "      <td>29000.0</td>\n",
              "    </tr>\n",
              "    <tr>\n",
              "      <th>4</th>\n",
              "      <td>Yearly</td>\n",
              "      <td>90000.0</td>\n",
              "    </tr>\n",
              "  </tbody>\n",
              "</table>\n",
              "</div>"
            ],
            "text/plain": [
              "  CompFreq  CompTotal\n",
              "0   Yearly    61000.0\n",
              "1   Yearly   138000.0\n",
              "2   Yearly    90000.0\n",
              "3  Monthly    29000.0\n",
              "4   Yearly    90000.0"
            ]
          },
          "metadata": {
            "tags": []
          },
          "execution_count": 14
        }
      ]
    },
    {
      "cell_type": "markdown",
      "metadata": {
        "id": "fBgGu-9hygul"
      },
      "source": [
        "Double click to see the **Hint**.\n",
        "\n",
        "<!--\n",
        "\n",
        "Use the below logic to arrive at the values for the column NormalizedAnnualCompensation.\n",
        "\n",
        "If the CompFreq is Yearly then use the exising value in CompTotal\n",
        "If the CompFreq is Monthly then multiply the value in CompTotal with 12 (months in an year)\n",
        "If the CompFreq is Weekly then multiply the value in CompTotal with 52 (weeks in an year)\n",
        "\n",
        "-->\n"
      ]
    },
    {
      "cell_type": "code",
      "metadata": {
        "colab": {
          "base_uri": "https://localhost:8080/"
        },
        "id": "D4I79wSfygul",
        "outputId": "18ef866e-8532-48cc-e585-b6658d5dc105"
      },
      "source": [
        "# your code goes here\n",
        "\n",
        "df_nodup.loc[df_nodup['CompFreq'] == 'Weekly', 'CompTotal'] = df_nodup['CompTotal'] * 52\n",
        "df_nodup.loc[df_nodup['CompFreq'] == 'Monthly', 'CompTotal'] = df_nodup['CompTotal'] * 12"
      ],
      "execution_count": 15,
      "outputs": [
        {
          "output_type": "stream",
          "text": [
            "/usr/local/lib/python3.6/dist-packages/pandas/core/indexing.py:1743: SettingWithCopyWarning: \n",
            "A value is trying to be set on a copy of a slice from a DataFrame.\n",
            "Try using .loc[row_indexer,col_indexer] = value instead\n",
            "\n",
            "See the caveats in the documentation: https://pandas.pydata.org/pandas-docs/stable/user_guide/indexing.html#returning-a-view-versus-a-copy\n",
            "  isetter(ilocs[0], value)\n"
          ],
          "name": "stderr"
        }
      ]
    },
    {
      "cell_type": "code",
      "metadata": {
        "id": "GeZMp5N7EbtM",
        "colab": {
          "base_uri": "https://localhost:8080/"
        },
        "outputId": "334afaf5-be42-4835-9a1f-0ad46dad720c"
      },
      "source": [
        "df_nodup['NormalizedAnnualCompensation'] = df_nodup['CompTotal']"
      ],
      "execution_count": 16,
      "outputs": [
        {
          "output_type": "stream",
          "text": [
            "/usr/local/lib/python3.6/dist-packages/ipykernel_launcher.py:1: SettingWithCopyWarning: \n",
            "A value is trying to be set on a copy of a slice from a DataFrame.\n",
            "Try using .loc[row_indexer,col_indexer] = value instead\n",
            "\n",
            "See the caveats in the documentation: https://pandas.pydata.org/pandas-docs/stable/user_guide/indexing.html#returning-a-view-versus-a-copy\n",
            "  \"\"\"Entry point for launching an IPython kernel.\n"
          ],
          "name": "stderr"
        }
      ]
    },
    {
      "cell_type": "code",
      "metadata": {
        "colab": {
          "base_uri": "https://localhost:8080/",
          "height": 204
        },
        "id": "9eSDAEKgChiH",
        "outputId": "30402dbf-953f-4ee6-823d-26020f2a7125"
      },
      "source": [
        "df_nodup[['CompFreq', 'CompTotal', 'NormalizedAnnualCompensation']].head()"
      ],
      "execution_count": 17,
      "outputs": [
        {
          "output_type": "execute_result",
          "data": {
            "text/html": [
              "<div>\n",
              "<style scoped>\n",
              "    .dataframe tbody tr th:only-of-type {\n",
              "        vertical-align: middle;\n",
              "    }\n",
              "\n",
              "    .dataframe tbody tr th {\n",
              "        vertical-align: top;\n",
              "    }\n",
              "\n",
              "    .dataframe thead th {\n",
              "        text-align: right;\n",
              "    }\n",
              "</style>\n",
              "<table border=\"1\" class=\"dataframe\">\n",
              "  <thead>\n",
              "    <tr style=\"text-align: right;\">\n",
              "      <th></th>\n",
              "      <th>CompFreq</th>\n",
              "      <th>CompTotal</th>\n",
              "      <th>NormalizedAnnualCompensation</th>\n",
              "    </tr>\n",
              "  </thead>\n",
              "  <tbody>\n",
              "    <tr>\n",
              "      <th>0</th>\n",
              "      <td>Yearly</td>\n",
              "      <td>61000.0</td>\n",
              "      <td>61000.0</td>\n",
              "    </tr>\n",
              "    <tr>\n",
              "      <th>1</th>\n",
              "      <td>Yearly</td>\n",
              "      <td>138000.0</td>\n",
              "      <td>138000.0</td>\n",
              "    </tr>\n",
              "    <tr>\n",
              "      <th>2</th>\n",
              "      <td>Yearly</td>\n",
              "      <td>90000.0</td>\n",
              "      <td>90000.0</td>\n",
              "    </tr>\n",
              "    <tr>\n",
              "      <th>3</th>\n",
              "      <td>Monthly</td>\n",
              "      <td>348000.0</td>\n",
              "      <td>348000.0</td>\n",
              "    </tr>\n",
              "    <tr>\n",
              "      <th>4</th>\n",
              "      <td>Yearly</td>\n",
              "      <td>90000.0</td>\n",
              "      <td>90000.0</td>\n",
              "    </tr>\n",
              "  </tbody>\n",
              "</table>\n",
              "</div>"
            ],
            "text/plain": [
              "  CompFreq  CompTotal  NormalizedAnnualCompensation\n",
              "0   Yearly    61000.0                       61000.0\n",
              "1   Yearly   138000.0                      138000.0\n",
              "2   Yearly    90000.0                       90000.0\n",
              "3  Monthly   348000.0                      348000.0\n",
              "4   Yearly    90000.0                       90000.0"
            ]
          },
          "metadata": {
            "tags": []
          },
          "execution_count": 17
        }
      ]
    },
    {
      "cell_type": "code",
      "metadata": {
        "colab": {
          "base_uri": "https://localhost:8080/"
        },
        "id": "TEUkzD8PEmNs",
        "outputId": "553ad302-0a73-4414-e3d8-f43e49608cd4"
      },
      "source": [
        "df_nodup['NormalizedAnnualCompensation'].median()"
      ],
      "execution_count": 18,
      "outputs": [
        {
          "output_type": "execute_result",
          "data": {
            "text/plain": [
              "100000.0"
            ]
          },
          "metadata": {
            "tags": []
          },
          "execution_count": 18
        }
      ]
    },
    {
      "cell_type": "markdown",
      "metadata": {
        "id": "FmQWbQnWygul"
      },
      "source": [
        "## Authors\n"
      ]
    },
    {
      "cell_type": "markdown",
      "metadata": {
        "id": "CFXsPeHEygul"
      },
      "source": [
        "Ramesh Sannareddy\n"
      ]
    },
    {
      "cell_type": "markdown",
      "metadata": {
        "id": "YNpUrRjHygul"
      },
      "source": [
        "### Other Contributors\n"
      ]
    },
    {
      "cell_type": "markdown",
      "metadata": {
        "id": "Q7Mxc3JWygum"
      },
      "source": [
        "Rav Ahuja\n"
      ]
    },
    {
      "cell_type": "markdown",
      "metadata": {
        "id": "PmJyaXxOygum"
      },
      "source": [
        "## Change Log\n"
      ]
    },
    {
      "cell_type": "markdown",
      "metadata": {
        "id": "634_fGTHygum"
      },
      "source": [
        "| Date (YYYY-MM-DD) | Version | Changed By        | Change Description                 |\n",
        "| ----------------- | ------- | ----------------- | ---------------------------------- |\n",
        "| 2020-10-17        | 0.1     | Ramesh Sannareddy | Created initial version of the lab |\n"
      ]
    },
    {
      "cell_type": "markdown",
      "metadata": {
        "id": "HqR8fCi8ygum"
      },
      "source": [
        " Copyright © 2020 IBM Corporation. This notebook and its source code are released under the terms of the [MIT License](https://cognitiveclass.ai/mit-license?cm_mmc=Email_Newsletter-_-Developer_Ed%2BTech-_-WW_WW-_-SkillsNetwork-Courses-IBM-DA0321EN-SkillsNetwork-21426264&cm_mmca1=000026UJ&cm_mmca2=10006555&cm_mmca3=M12345678&cvosrc=email.Newsletter.M12345678&cvo_campaign=000026UJ&cm_mmc=Email_Newsletter-_-Developer_Ed%2BTech-_-WW_WW-_-SkillsNetwork-Courses-IBM-DA0321EN-SkillsNetwork-21426264&cm_mmca1=000026UJ&cm_mmca2=10006555&cm_mmca3=M12345678&cvosrc=email.Newsletter.M12345678&cvo_campaign=000026UJ&cm_mmc=Email_Newsletter-_-Developer_Ed%2BTech-_-WW_WW-_-SkillsNetwork-Courses-IBM-DA0321EN-SkillsNetwork-21426264&cm_mmca1=000026UJ&cm_mmca2=10006555&cm_mmca3=M12345678&cvosrc=email.Newsletter.M12345678&cvo_campaign=000026UJ&cm_mmc=Email_Newsletter-_-Developer_Ed%2BTech-_-WW_WW-_-SkillsNetwork-Courses-IBM-DA0321EN-SkillsNetwork-21426264&cm_mmca1=000026UJ&cm_mmca2=10006555&cm_mmca3=M12345678&cvosrc=email.Newsletter.M12345678&cvo_campaign=000026UJ&cm_mmc=Email_Newsletter-_-Developer_Ed%2BTech-_-WW_WW-_-SkillsNetwork-Courses-IBM-DA0321EN-SkillsNetwork-21426264&cm_mmca1=000026UJ&cm_mmca2=10006555&cm_mmca3=M12345678&cvosrc=email.Newsletter.M12345678&cvo_campaign=000026UJ&cm_mmc=Email_Newsletter-_-Developer_Ed%2BTech-_-WW_WW-_-SkillsNetwork-Courses-IBM-DA0321EN-SkillsNetwork-21426264&cm_mmca1=000026UJ&cm_mmca2=10006555&cm_mmca3=M12345678&cvosrc=email.Newsletter.M12345678&cvo_campaign=000026UJ).\n"
      ]
    }
  ]
}